{
 "cells": [
  {
   "cell_type": "markdown",
   "metadata": {},
   "source": [
    "# Predicción de múltiples series de tiempo aplicado en la proyección de matrícula escolar."
   ]
  },
  {
   "cell_type": "markdown",
   "metadata": {},
   "source": [
    "#### Importante:\n",
    "La presente libreta es una herramienta de documentación para la elaboración de la tesis, no pretende ser la implementación final del sistema de proyección de matrícula.\n",
    "Para ejecutar una celda, dar click en ella y presionar ctrl + enter."
   ]
  },
  {
   "cell_type": "markdown",
   "metadata": {},
   "source": [
    "Instalar paquetes necesarios en caso de que no se cuente con ellos. Saltar esta celda si se ejecuta desde Binder."
   ]
  },
  {
   "cell_type": "code",
   "execution_count": null,
   "metadata": {},
   "outputs": [],
   "source": [
    "# Recargar página luego de ejecutar esta celda por primera vez\n",
    "!pip install \"ipywidgets>=7.2\"\n",
    "!pip install sklearn\n",
    "!pip install tensorflow\n",
    "!pip install pandas\n",
    "!pip install numpy\n",
    "!pip install bqplot\n",
    "!pip install datapane\n",
    "!pip install pyFTS\n",
    "!pip install dill\n",
    "!pip install matplotlib\n",
    "!pip install altair\n",
    "!jupyter nbextension enable --py --sys-prefix bqplot"
   ]
  },
  {
   "cell_type": "markdown",
   "metadata": {},
   "source": [
    "Importar todos los paquetes necesarios para esta libreta."
   ]
  },
  {
   "cell_type": "code",
   "execution_count": null,
   "metadata": {},
   "outputs": [],
   "source": [
    "import pandas as pd\n",
    "import numpy as np\n",
    "import bqplot.pyplot as plt\n",
    "import tensorflow as tf\n",
    "from IPython.display import display, HTML, IFrame\n",
    "import ipywidgets as widgets\n",
    "import altair as alt\n",
    "import datapane as dp\n",
    "\n",
    "from bqplot import (ColorScale, DateColorScale, OrdinalColorScale, \n",
    "                    LinearScale, Tooltip)\n",
    "from ipywidgets import interact, interactive, fixed, interact_manual"
   ]
  },
  {
   "cell_type": "markdown",
   "metadata": {},
   "source": [
    "# Evaluación de modelos"
   ]
  },
  {
   "cell_type": "markdown",
   "metadata": {},
   "source": [
    "En las siguientes celdas se presenta una evaluación de los modelos y después se continúa con la descripción de las métricas."
   ]
  },
  {
   "cell_type": "code",
   "execution_count": null,
   "metadata": {},
   "outputs": [],
   "source": [
    "# Manejo de modulos\n",
    "import sys, os\n",
    "module_path = os.path.abspath(os.path.join('..'))\n",
    "sys.path.append(module_path)\n",
    "\n",
    "# Importar clases de normalización\n",
    "from Entrenamiento.Normalizators import MinMaxNormalizator, DifferencingNormalizator\n",
    "\n",
    "# Importar las funciones de los modelos\n",
    "from Metodos.NaiveForecasting import naive_forecasting_predict\n",
    "from Metodos.LinearRegression import base_linear_regression\n",
    "from Metodos.FuzzyTimeSeries import hyperopt_fts_predict\n",
    "from Metodos.AutoARIMA import auto_arima_predict\n",
    "from Metodos.IndividualANN import individual_ann\n",
    "from Metodos.ExpertsOpinion import weightless_ep\n",
    "\n",
    "# Importar interface de modelos\n",
    "from Evaluation import Model, TestResult\n",
    "\n",
    "# Crear modelos\n",
    "\n",
    "model_dict = {\n",
    "    'Naive forecasting' : Model(naive_forecasting_predict),\n",
    "    'Simple Linear Regression' : Model(base_linear_regression),\n",
    "    'Fuzzy Time Series' : Model(hyperopt_fts_predict),\n",
    "    'Auto ARIMA' : Model(auto_arima_predict),\n",
    "    'ANN Individual' : Model(individual_ann, args = dict(window_len = 5, normalizators = [MinMaxNormalizator])),\n",
    "    'Experts Opinion' : Model(weightless_ep, args = dict(experts = [\n",
    "        (individual_ann, dict(window_len = 5, normalizators = [MinMaxNormalizator])), \n",
    "        (hyperopt_fts_predict, dict()), \n",
    "        (auto_arima_predict, dict(normalizators = [MinMaxNormalizator]))\n",
    "    ]))\n",
    "}\n",
    "\n",
    "# Crear etiquetas\n",
    "label_dict = {\n",
    "    'Todas las primarias' : 'PrimariasCompletas',\n",
    "    'Primarias públicas' : 'PrimariasPublicas',\n",
    "    'Primarias privadas' : 'PrimariasPrivadas',\n",
    "    'Muestra pequeña' : 'Muestra'\n",
    "}"
   ]
  },
  {
   "cell_type": "code",
   "execution_count": null,
   "metadata": {},
   "outputs": [],
   "source": [
    "# Seleccionar conjunto de datos, método de predicción y número de años a predecir\n",
    "out = widgets.Output()\n",
    "evaluacion_dict = None\n",
    "\n",
    "@interact(\n",
    "    modelo = widgets.RadioButtons(\n",
    "        options = [\n",
    "            'Naive forecasting',\n",
    "            'Simple Linear Regression',\n",
    "            'Fuzzy Time Series',\n",
    "            'Auto ARIMA',\n",
    "            'ANN Individual',\n",
    "            'Experts Opinion'\n",
    "        ],\n",
    "        description='Modelo',\n",
    "        disabled=False\n",
    "    ),\n",
    "    conjunto = widgets.RadioButtons(\n",
    "        options = [\n",
    "            'Todas las primarias', \n",
    "            'Primarias públicas', \n",
    "            'Primarias privadas',\n",
    "            'Muestra pequeña'\n",
    "        ],\n",
    "        description='Conjunto',\n",
    "        disabled=False\n",
    "    ),\n",
    "    periodo = widgets.RadioButtons(\n",
    "        options = [\n",
    "            'Prueba',\n",
    "            'Validación'\n",
    "        ],\n",
    "        description = 'Periodo',\n",
    "        disabled = False\n",
    "    ),\n",
    ")\n",
    "def preparar_evaluacion(modelo, conjunto, periodo) :\n",
    "    global evaluacion_dict\n",
    "    evaluacion_dict = {\n",
    "        'modelo' : modelo,\n",
    "        'conjunto' : conjunto,\n",
    "        'periodo' : periodo,\n",
    "    }"
   ]
  },
  {
   "cell_type": "code",
   "execution_count": null,
   "metadata": {
    "scrolled": true
   },
   "outputs": [],
   "source": [
    "# Calcular resultados de la prueba\n",
    "from MyUtilities import LoadEvaluationPlot\n",
    "from MyUtilities import LoadHTMLTable\n",
    "\n",
    "modelo = evaluacion_dict['modelo']\n",
    "conjunto = evaluacion_dict['conjunto']\n",
    "periodo = evaluacion_dict['periodo']\n",
    "model = model_dict[modelo]\n",
    "\n",
    "prediction_size = 4\n",
    "model.TEST_SIZE = 4\n",
    "if periodo == 'Prueba' :\n",
    "    model.VALIDATION_SIZE = 4\n",
    "else :\n",
    "    model.VALIDATION_SIZE = 0\n",
    "\n",
    "result = model.test_set(label_dict[conjunto], prediction_size, \"GruposPrimaria\")\n",
    "\n",
    "LoadEvaluationPlot(result, prediction_size, conjunto, modelo)\n",
    "\n",
    "out_1 = widgets.Output()\n",
    "with out_1:\n",
    "    out_1.clear_output(True)\n",
    "    plt.show()\n",
    "    display(HTML(LoadHTMLTable(result.metricas, modelo)))\n",
    "    \n",
    "out_1"
   ]
  },
  {
   "cell_type": "markdown",
   "metadata": {},
   "source": [
    "## Métricas de evaluación"
   ]
  },
  {
   "cell_type": "markdown",
   "metadata": {},
   "source": [
    "A continuación se presenta una descripción de las métricas seleccionadas.\n",
    "\n",
    "#### Notas importantes:\n",
    "\n",
    "Las métricas son calculadas por año de forma independiente, es decir, que se calcula cada métrica para los 5 años predichos en el futuro, tomándose la predicción y el valor real de cada escuela en cada año.\n",
    "\n",
    "$\\hat{Y}:$ vector de predicción del conjunto de escuelas. Sus elementos se expresan como $\\hat{y}_i$\n",
    "\n",
    "$Y$: vector de datos reales (alumnos inscritos) del conjunto de escuelas. Sus elementos se expresan como $y_i$\n",
    "\n",
    "El error de una predicción se calcula como $E = Y - \\hat{Y}$, y puede ser explicado gráficamente en la siguiente figura:\n",
    "\n",
    "![](DefinicionError.png)\n",
    "\n",
    "Donde cada punto representa una predicción, la distancia vertical entre cada punto y la línea base de predicción es el error en la predicción. Los errores son negativos si se encuentran por debajo de la línea base de predicción y son positivos si se encuentran por encima de la línea base de predicción. La línea base de predicción representa la predicción ideal sobre la que deberían estar todas las predicciones en un modelo perfecto. El color de los puntos indica a qué año pertenece la predicción, siendo el color verde el primer año predicho."
   ]
  },
  {
   "cell_type": "markdown",
   "metadata": {},
   "source": [
    "### Mean absolute error\n",
    "\n",
    "Métrica que representa el promedio de error de todas las predicciones realizadas. Otorga la ventaja de representar el error en la misma escala en la que se encuentran los datos.\n",
    "\n",
    "Cálculo:\n",
    "\n",
    "$$MAE = \\frac{1}{n} \\sum_{i = 1}^{n} |\\hat{y}_i - y_i |$$\n",
    "\n",
    "donde\n",
    "\n",
    "$n$ es el número de escuelas\n",
    "\n",
    "$y_i$ representa el número de alumnos en la escuela $i$ en un año\n",
    "\n",
    "$\\hat{y}_i$ representa la predicción de alumnos de alumnos la escuela $i$ en un año"
   ]
  },
  {
   "cell_type": "markdown",
   "metadata": {},
   "source": [
    "### Root mean squared error\n",
    "\n",
    "Similar al MAE esta métrica representa el error en una escala cercana a la escala de los datos pero que funciona mejor cuando existen variaciones en la escala de los datos.\n",
    "\n",
    "Cálculo:\n",
    "\n",
    "$$RMSE = \\sqrt{ \\frac{1}{n} \\sum_{i = 1}^{n} (\\hat{y}_i - y_i) ^ {2}}$$\n",
    "\n",
    "donde\n",
    "\n",
    "$n$ es el número de escuelas\n",
    "\n",
    "$y_i$ representa el número de alumnos en la escuela $i$ en un año\n",
    "\n",
    "$\\hat{y}_i$ representa la predicción de alumnos de alumnos la escuela $i$ en un año"
   ]
  },
  {
   "cell_type": "markdown",
   "metadata": {},
   "source": [
    "### Mean absolute percentage error\n",
    "\n",
    "Métrica estándard que representa el porcentage de error promedio de todas las predicciones realizadas.\n",
    "\n",
    "Cálculo:\n",
    "\n",
    "$$MAPE = \\frac{1}{n} \\sum_{i = 1} ^ n \\frac{|\\hat{y}_i - y_i|}{y_i}$$\n",
    "\n",
    "\n",
    "donde\n",
    "\n",
    "$n$ es el número de escuelas\n",
    "\n",
    "$y_i$ representa el número de alumnos en la escuela $i$ en un año\n",
    "\n",
    "$\\hat{y}_i$ representa la predicción de alumnos de alumnos la escuela $i$ en un año"
   ]
  },
  {
   "cell_type": "markdown",
   "metadata": {},
   "source": [
    "### Probabilidad de riesgo\n",
    "\n",
    "La probabilidad de riesgo es la única métrica no estándard presente en la evaluación de los modelos. Representa la probabilidad de tomar una proyección de matrícula cuyo error supere al promedio de la taza de alumnos por grupo en dicha escuela. Este tipo de proyecciones se consideran de riesgo ya que en caso de incurrir en una de ellas, se estará tomando una decisión que pueda perjudicar los recursos involucrados, por ejemplo, predecir con un error de 40 alumnos en una escuela en la que el promedio la taza de alumnos por grupo es de 20 alumnos puede conducirnos a casos en los que se inviertan recursos en la creación de dos nuevos grupos cuando no es necesario, o el caso contrario, en el que por no asignar los recursos la escuela no cuenta con la infraestructura necesaria para satisfacer la demanda.\n",
    "\n",
    "Cálculo de la probabilidad de riesgo $PR$:\n",
    "\n",
    "$$PR = \\frac{1}{n} \\sum_{i = 1} ^ {n} f(i)$$\n",
    "\n",
    "$$\n",
    "f(i)=\n",
    "\\begin{cases}\n",
    "1 \\Leftrightarrow |\\hat{y}_i - y_i| \\geq \\frac{1}{T} \\sum_{j = 1}^T \\frac{y_j}{g_j} \\\\\n",
    "0 \\Leftrightarrow |\\hat{y}_i - y_i| < \\frac{1}{T} \\sum_{j = 1}^T \\frac{y_j}{g_j} \\\\\n",
    "\\end{cases}\n",
    "$$ \n",
    "\n",
    "donde \n",
    "\n",
    "$n$ es el número de escuelas\n",
    "\n",
    "$y_i$ representa el número de alumnos en la escuela $i$ en un año\n",
    "\n",
    "$\\hat{y}_i$ representa la predicción de alumnos de alumnos la escuela $i$ en un año\n",
    "\n",
    "$g_j$ representa el número de grupos de la escuela en el año $j$ \n",
    "\n",
    "$T$ es el número de años utilizados para el conjunto de entrenamiento\n",
    "\n"
   ]
  },
  {
   "cell_type": "markdown",
   "metadata": {},
   "source": [
    "# Proyección de matrícula en una sola escuela"
   ]
  },
  {
   "cell_type": "markdown",
   "metadata": {},
   "source": [
    "En la siguiente celda se evalúa la proyección de matrícula en una escuela dados su clave de centro de trabajo, modelo de predicción y años a predecir.\n",
    "\n",
    "#### Importante: solo se aceptan cct de escuelas primarias"
   ]
  },
  {
   "cell_type": "code",
   "execution_count": null,
   "metadata": {
    "scrolled": true
   },
   "outputs": [],
   "source": [
    "# Introduce el CCT, los años a predecir (5 máximo) y el método de predicción\n",
    "# Ejemplo de CCT: 32EPR0160B\n",
    "out = widgets.Output()\n",
    "reporte_dict = None\n",
    "\n",
    "@interact(cct = 'Introduce cct', \n",
    "          anios = widgets.IntSlider(min=1, max=5, step=1, value=3, description = 'Años'), \n",
    "          modelo = widgets.RadioButtons(\n",
    "              options = [\n",
    "                  'Naive forecasting',\n",
    "                  'Simple Linear Regression',\n",
    "                  'Fuzzy Time Series',\n",
    "                  'Auto ARIMA',\n",
    "                  'ANN Individual',\n",
    "                  'Experts Opinion'\n",
    "              ],\n",
    "              description='Modelo',\n",
    "              disabled=False\n",
    "))\n",
    "def prediccion(cct, anios, modelo) :\n",
    "    global model_dict, reporte_dict\n",
    "    model = model_dict[modelo]\n",
    "    \n",
    "    dataset = pd.read_csv(os.path.join(\n",
    "        os.path.abspath(os.pardir), \n",
    "        'Datasets/', \n",
    "        'PrimariasCompletas.csv'\n",
    "    ))\n",
    "    unique_index = pd.Index(list(dataset['cct']))\n",
    "    if cct in unique_index :\n",
    "        index = unique_index.get_loc(cct)\n",
    "        print('Se encontró el cct')\n",
    "    else :\n",
    "        print('No se encontró el cct')\n",
    "        return\n",
    "    \n",
    "    # Quitar el cct\n",
    "    row = np.array(dataset.loc[index][1:])\n",
    "    \n",
    "    # Separamos los últimos 5 años\n",
    "    X = row[: -model.TEST_SIZE]\n",
    "\n",
    "    if anios == model.TEST_SIZE :\n",
    "        Y = row[-model.TEST_SIZE :]\n",
    "    else :\n",
    "        Y = row[-model.TEST_SIZE : -(model.TEST_SIZE - anios)]\n",
    "    prediccion = model.predict(X, anios)\n",
    "    \n",
    "    list_X = list(X)\n",
    "    list_Y = list(Y)\n",
    "    list_predict = list(prediccion)\n",
    "    \n",
    "    # Preparar reporte\n",
    "    reporte_dict = {\n",
    "        'title' : 'Predicción de matrícula escolar en la escuela %s utilizando %s' % (cct, modelo),\n",
    "        'X' : X,\n",
    "        'Y' : Y,\n",
    "        'prediccion' : prediccion,\n",
    "        'anios' : anios\n",
    "    }\n",
    "    \n",
    "    # Mostrar gráfica\n",
    "    with out:\n",
    "        out.clear_output(True)\n",
    "        \n",
    "        axes_options = {'x': {'label': 'Año'},'y': {'label': 'Alumnos'}}\n",
    "        \n",
    "        fig = plt.figure(title = 'Predicción de matrícula escolar en la escuela %s utilizando %s' % (cct, modelo), legend_location='top-left')\n",
    "        plt.plot(x = [1998 + i for i in range(len(X))], y = list_X, colors = ['red'], axes_options=axes_options, labels = ['Datos de entrenamiento'], display_legend = True, marker = 'circle')\n",
    "        plt.plot(x = [1997 + len(X) + i  for i in range(len(Y) + 1)], y = (list_X + list_Y)[-(anios + 1):], labels = ['Datos de prueba'], display_legend = True, marker = 'circle')\n",
    "        plt.plot(x = [1997 + len(X) + i  for i in range(len(Y) + 1)], y = (list_X + list_predict)[-(anios + 1):], colors = ['green'], labels = ['Datos predichos'], display_legend = True, marker = 'circle')\n",
    "        \n",
    "        plt.show()\n",
    "out"
   ]
  },
  {
   "cell_type": "markdown",
   "metadata": {},
   "source": [
    "## Compartir reporte en Datapane"
   ]
  },
  {
   "cell_type": "markdown",
   "metadata": {},
   "source": [
    "En la siguientes celdas se pueden crear reportes de la proyección hecha anteriormente y compartirlas públicamente."
   ]
  },
  {
   "cell_type": "code",
   "execution_count": null,
   "metadata": {},
   "outputs": [],
   "source": [
    "# Escribir aquí el token de acceso de Datapane\n",
    "# Puedes encontrarlo en: https://datapane.com/home/\n",
    "\n",
    "!datapane login --server=https://datapane.com/ --token=TOKEN"
   ]
  },
  {
   "cell_type": "code",
   "execution_count": null,
   "metadata": {},
   "outputs": [],
   "source": [
    "from MyUtilities import LoadReport\n",
    "\n",
    "# Crear reporte\n",
    "reporte = LoadReport(**reporte_dict)\n",
    "\n",
    "# Ver reporte en esta celda de Jupyter\n",
    "reporte.preview()\n",
    "\n",
    "# Alternativa: guardar reporte en disco y mostrar IFrame en Jupyter\n",
    "#reporte.save(path='Reporte.html', open = True)\n",
    "#display(IFrame(src = 'Reporte.html', width = '100%', height = '540px'))\n",
    "\n",
    "# Publicar\n",
    "reporte.publish(name='Reporte', open=True, visibility='PUBLIC')"
   ]
  }
 ],
 "metadata": {
  "kernelspec": {
   "display_name": "Python 3",
   "language": "python",
   "name": "python3"
  },
  "language_info": {
   "codemirror_mode": {
    "name": "ipython",
    "version": 3
   },
   "file_extension": ".py",
   "mimetype": "text/x-python",
   "name": "python",
   "nbconvert_exporter": "python",
   "pygments_lexer": "ipython3",
   "version": "3.6.9"
  }
 },
 "nbformat": 4,
 "nbformat_minor": 4
}
