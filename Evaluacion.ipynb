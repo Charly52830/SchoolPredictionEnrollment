{
 "cells": [
  {
   "cell_type": "markdown",
   "metadata": {},
   "source": [
    "# Proyección de matrícula escolar de múltiples escuelas primarias modeladas como series de tiempo."
   ]
  },
  {
   "cell_type": "markdown",
   "metadata": {},
   "source": [
    "#### Importante:\n",
    "La presente libreta es una herramienta de documentación para la elaboración de la tesis, no pretende ser la implementación final del sistema de proyección de matrícula.\n",
    "Para ejecutar una celda, dar click en ella y presionar ctrl + enter."
   ]
  },
  {
   "cell_type": "markdown",
   "metadata": {},
   "source": [
    "Instalar paquetes necesarios en caso de que no se cuente con ellos. Saltar esta celda si se ejecuta desde Binder."
   ]
  },
  {
   "cell_type": "code",
   "execution_count": null,
   "metadata": {},
   "outputs": [],
   "source": [
    "# Recargar página luego de ejecutar esta celda por primera vez\n",
    "!pip install \"ipywidgets>=7.2\"\n",
    "!pip install sklearn\n",
    "!pip install tensorflow\n",
    "!pip install pandas\n",
    "!pip install numpy\n",
    "!pip install bqplot\n",
    "!pip install datapane\n",
    "!jupyter nbextension enable --py --sys-prefix bqplot"
   ]
  },
  {
   "cell_type": "markdown",
   "metadata": {},
   "source": [
    "Importar todos los paquetes necesarios para esta libreta."
   ]
  },
  {
   "cell_type": "code",
   "execution_count": 1,
   "metadata": {},
   "outputs": [],
   "source": [
    "import pandas as pd\n",
    "import numpy as np\n",
    "import bqplot.pyplot as plt\n",
    "import tensorflow as tf\n",
    "from IPython.display import display, HTML, IFrame\n",
    "import ipywidgets as widgets\n",
    "import altair as alt\n",
    "import datapane as dp\n",
    "\n",
    "from bqplot import (ColorScale, DateColorScale, OrdinalColorScale, \n",
    "                    LinearScale, Tooltip)\n",
    "from ipywidgets import interact, interactive, fixed, interact_manual"
   ]
  },
  {
   "cell_type": "markdown",
   "metadata": {},
   "source": [
    "# Evaluación de modelos"
   ]
  },
  {
   "cell_type": "markdown",
   "metadata": {},
   "source": [
    "En las siguientes celdas se presenta una evaluación de los modelos y después se continúa con la descripción de las métricas."
   ]
  },
  {
   "cell_type": "code",
   "execution_count": 2,
   "metadata": {},
   "outputs": [
    {
     "name": "stdout",
     "output_type": "stream",
     "text": [
      "Loaded model  default\n"
     ]
    }
   ],
   "source": [
    "# Importar las funciones de los modelos\n",
    "from TimeSeriesPrediction import fixed_partitioning_predict\n",
    "from LinearRegression import linear_regression_predict, base_linear_regression\n",
    "from DNN import load_model, dnn_predict, dnn_predict_by_year\n",
    "\n",
    "# Importar interface de modelos\n",
    "from Evaluation import Model, TestResult\n",
    "\n",
    "# Crear modelos\n",
    "\n",
    "model_dict = {\n",
    "    'Fix. part. time series' : Model(fixed_partitioning_predict),\n",
    "    'Fix. part. linear regression' : Model(linear_regression_predict),\n",
    "    'Deep Neural Networks' : Model(dnn_predict, args = dict(cached_model = load_model('default'))),\n",
    "    'Linear regression' : Model(base_linear_regression)\n",
    "}\n",
    "\n",
    "# Crear etiquetas\n",
    "label_dict = {\n",
    "    'Fix. part. time series' : 'Fixed partitioning time series',\n",
    "    'Fix. part. linear regression' : 'Fixed partitioning linear regression',\n",
    "    'Deep Neural Networks' : 'Redes neuronales',\n",
    "    'Linear regression' : 'Regresión lineal',\n",
    "    'Primarias públicas y privadas' : 'PrimariasCompletas',\n",
    "    'Primarias públicas' : 'PrimariasPublicas',\n",
    "    'Primarias privadas' : 'PrimariasPrivadas'\n",
    "}"
   ]
  },
  {
   "cell_type": "code",
   "execution_count": 3,
   "metadata": {},
   "outputs": [
    {
     "data": {
      "application/vnd.jupyter.widget-view+json": {
       "model_id": "1ddcfb5130be4542a8cb5fe231059642",
       "version_major": 2,
       "version_minor": 0
      },
      "text/plain": [
       "interactive(children=(RadioButtons(description='Modelo', options=('Fix. part. time series', 'Fix. part. linear…"
      ]
     },
     "metadata": {},
     "output_type": "display_data"
    }
   ],
   "source": [
    "# Seleccionar conjunto de datos, método de predicción y número de años a predecir\n",
    "out = widgets.Output()\n",
    "evaluacion_dict = None\n",
    "\n",
    "@interact(\n",
    "    modelo = widgets.RadioButtons(\n",
    "        options = [\n",
    "            'Fix. part. time series', \n",
    "            'Fix. part. linear regression', \n",
    "            'Deep Neural Networks',\n",
    "            'Linear regression'\n",
    "        ],\n",
    "        description='Modelo',\n",
    "        disabled=False\n",
    "    ),\n",
    "    conjunto = widgets.RadioButtons(\n",
    "        options=['Primarias públicas y privadas', 'Primarias públicas', 'Primarias privadas'],\n",
    "        description='Conjunto',\n",
    "        disabled=False\n",
    "    ),\n",
    "    anios = widgets.IntSlider(\n",
    "        value=3,\n",
    "        min=1,\n",
    "        max=5,\n",
    "        step=1,\n",
    "        description='Años',\n",
    "        disabled=False,\n",
    "        continuous_update=False,\n",
    "        orientation='horizontal',\n",
    "        readout=True,\n",
    "        readout_format='d'\n",
    "    )\n",
    ")\n",
    "def preparar_evaluacion(modelo, conjunto, anios) :\n",
    "    global evaluacion_dict\n",
    "    evaluacion_dict = {\n",
    "        'modelo' : modelo,\n",
    "        'conjunto' : conjunto,\n",
    "        'anios' : anios\n",
    "    }"
   ]
  },
  {
   "cell_type": "code",
   "execution_count": 19,
   "metadata": {
    "scrolled": true
   },
   "outputs": [
    {
     "data": {
      "application/vnd.jupyter.widget-view+json": {
       "model_id": "f4b470239a1d480993884f5c7e03a44a",
       "version_major": 2,
       "version_minor": 0
      },
      "text/plain": [
       "Output()"
      ]
     },
     "metadata": {},
     "output_type": "display_data"
    }
   ],
   "source": [
    "# Calcular resultados de la prueba\n",
    "from MyUtilities import LoadEvaluationPlot\n",
    "from MyUtilities import LoadHTMLTable\n",
    "\n",
    "modelo = evaluacion_dict['modelo']\n",
    "conjunto = evaluacion_dict['conjunto']\n",
    "prediction_size = evaluacion_dict['anios']\n",
    "\n",
    "model = model_dict[modelo]\n",
    "result = model.test_set(label_dict[conjunto], prediction_size)\n",
    "\n",
    "LoadEvaluationPlot(result, prediction_size, conjunto, modelo)\n",
    "\n",
    "out_1 = widgets.Output()\n",
    "with out_1:\n",
    "    out_1.clear_output(True)\n",
    "    plt.show()\n",
    "    display(HTML(LoadHTMLTable(result.metricas, modelo)))\n",
    "    \n",
    "out_1"
   ]
  },
  {
   "cell_type": "markdown",
   "metadata": {},
   "source": [
    "## Métricas de evaluación"
   ]
  },
  {
   "cell_type": "markdown",
   "metadata": {},
   "source": [
    "A continuación se presenta una descripción de las métricas seleccionadas.\n",
    "\n",
    "#### Notas importantes:\n",
    "\n",
    "Las métricas son calculadas por año de forma independiente.\n",
    "\n",
    "$\\hat{Y}:$ vector de predicción del conjunto de escuelas.\n",
    "\n",
    "$Y:$ vector de datos reales (alumnos inscritos) del conjunto de escuelas.\n",
    "\n",
    "El error de una predicción se calcula como $E_i = Y_i - \\hat{Y}_i$, y puede ser explicado gráficamente en la siguiente figura:\n",
    "\n",
    "![](DefinicionError.png)\n",
    "\n",
    "Cada punto representa una predicción, la distancia vertical entre cada punto y la línea base de predicción es el error en la predicción. Los errores son negativos si se encuentran por debajo de la línea base de predicción y son positivos si se encuentran por encima de la línea base de predicción. La línea base de predicción representa la predicción ideal sobre la que deberían estar todas las predicciones en un modelo perfecto."
   ]
  },
  {
   "cell_type": "markdown",
   "metadata": {},
   "source": [
    "### Mean absolute error\n",
    "\n",
    "Métrica que representa el promedio de error de todas las predicciones realizadas. Otorga la ventaja de representar el error en la misma escala en la que se encuentran los datos.\n",
    "\n",
    "Cálculo:\n",
    "\n",
    "$$MAE = \\frac{1}{n} \\sum_{i = 1}^{n} |\\hat{Y}_i - Y_i |$$"
   ]
  },
  {
   "cell_type": "markdown",
   "metadata": {},
   "source": [
    "### Root mean squared error\n",
    "\n",
    "Similar al MAE esta métrica representa el error en una escala cercana a la escala de los datos pero que funciona mejor cuando existen variaciones en la escala de los datos.\n",
    "\n",
    "Cálculo:\n",
    "\n",
    "$$RMSE = \\sqrt{ \\frac{1}{n} \\sum_{i = 1}^{n} (\\hat{Y}_i - Y_i) ^ {2}}$$"
   ]
  },
  {
   "cell_type": "markdown",
   "metadata": {},
   "source": [
    "### Mean absolute percentage error\n",
    "\n",
    "Métrica estándard que representa el porcentage de error promedio de todas las predicciones realizadas.\n",
    "\n",
    "Cálculo:\n",
    "\n",
    "$$MAPE = \\frac{1}{n} \\sum_{i = 1} ^ n \\frac{|\\hat{Y}_i - Y_i|}{Y_i}$$"
   ]
  },
  {
   "cell_type": "markdown",
   "metadata": {},
   "source": [
    "### Probabilidad de riesgo (próximamente)\n",
    "\n",
    "La probabilidad de riesgo es la única métrica no estándard presente en la evaluación de los modelos. Representa la probabilidad de tomar una proyección de matrícula cuyo error supere al número de alumnos por grupo en dicha escuela. Este tipo de proyecciones son peligrosas ya que en caso de incurrir en una de ellas, se estará tomando una decisión que pueda perjudicar los recursos involucrados, por ejemplo, predecir con un error de 40 alumnos en una escuela en la que el promedio de alumnos por grupo es de 20 alumnos puede conducirnos a casos en los que se inviertan recursos en la creación de dos nuevos grupos, o casos en los que sea necesaria la creación de dos nuevos grupos en un momento tardío del periodo de clases.\n",
    "\n",
    "Cálculo de la probabilidad de riesgo $PR$:\n",
    "\n",
    "$$PR = \\frac{1}{n} \\sum_{i = 1} ^ {n} f(i)$$\n",
    "\n",
    "$$\n",
    "f(i)=\n",
    "\\begin{cases}\n",
    "1 \\Leftrightarrow |\\hat{Y}_i - Y_i| \\geq \\frac{Y_i}{G_i} \\\\\n",
    "0 \\Leftrightarrow |\\hat{Y}_i - Y_i| < \\frac{Y_i}{G_i} \\\\\n",
    "\\end{cases}\n",
    "$$ \n",
    "\n",
    "$$PR \\in \\Bbb R, f(i) : 1 \\leq i \\leq n \\rightarrow [0, 1]$$\n",
    "\n",
    "donde $G_i$ representa el número de grupos en la escuela $i$."
   ]
  },
  {
   "cell_type": "markdown",
   "metadata": {},
   "source": [
    "# Proyección de matrícula en una sola escuela"
   ]
  },
  {
   "cell_type": "markdown",
   "metadata": {},
   "source": [
    "En la siguiente celda se evalúa la proyección de matrícula en una escuela dados su clave de centro de trabajo, modelo de predicción y años a predecir.\n",
    "\n",
    "#### Importante: solo se aceptan cct de escuelas primarias"
   ]
  },
  {
   "cell_type": "code",
   "execution_count": 13,
   "metadata": {},
   "outputs": [
    {
     "data": {
      "application/vnd.jupyter.widget-view+json": {
       "model_id": "bd6aa9d979cd47f3a88f20e2046e6061",
       "version_major": 2,
       "version_minor": 0
      },
      "text/plain": [
       "interactive(children=(Text(value='Introduce cct', description='cct'), IntSlider(value=3, description='Años', m…"
      ]
     },
     "metadata": {},
     "output_type": "display_data"
    },
    {
     "data": {
      "application/vnd.jupyter.widget-view+json": {
       "model_id": "5372736abff7494db134e5db09a0113a",
       "version_major": 2,
       "version_minor": 0
      },
      "text/plain": [
       "Output()"
      ]
     },
     "metadata": {},
     "output_type": "display_data"
    }
   ],
   "source": [
    "# Introduce el CCT, los años a predecir (5 máximo) y el método de predicción\n",
    "out = widgets.Output()\n",
    "reporte_dict = None\n",
    "\n",
    "@interact(cct = 'Introduce cct', \n",
    "          anios = widgets.IntSlider(min=1, max=5, step=1, value=3, description = 'Años'), \n",
    "          modelo = widgets.RadioButtons(\n",
    "              options = [\n",
    "                  'Fix. part. time series',\n",
    "                  'Fix. part. linear regression', \n",
    "                  'Deep Neural Networks',\n",
    "                  'Linear regression'\n",
    "              ],\n",
    "              description='Modelo',\n",
    "              disabled=False\n",
    "))\n",
    "def prediccion(cct, anios, modelo) :\n",
    "    global model_dict, reporte_dict\n",
    "    model = model_dict[modelo]\n",
    "    \n",
    "    dataset = pd.read_csv('PrimariasCompletas.csv')\n",
    "    unique_index = pd.Index(list(dataset['cct']))\n",
    "    if cct in unique_index :\n",
    "        index = unique_index.get_loc(cct)\n",
    "        print('Se encontró el cct')\n",
    "    else :\n",
    "        print('No se encontró el cct')\n",
    "        return\n",
    "    \n",
    "    # Quitar el cct\n",
    "    row = np.array(dataset.loc[index][1:])\n",
    "    \n",
    "    # Separamos los últimos 5 años\n",
    "    X = row[: -model.TEST_SIZE]\n",
    "\n",
    "    if anios == model.TEST_SIZE :\n",
    "        Y = row[-model.TEST_SIZE :]\n",
    "    else :\n",
    "        Y = row[-model.TEST_SIZE : -(model.TEST_SIZE - anios)]\n",
    "    prediccion = model.predict(X, anios)\n",
    "    \n",
    "    list_X = list(X)\n",
    "    list_Y = list(Y)\n",
    "    list_predict = list(prediccion)\n",
    "    \n",
    "    # Preparar reporte\n",
    "    reporte_dict = {\n",
    "        'title' : 'Predicción de matrícula escolar en la escuela %s utilizando %s' % (cct, modelo),\n",
    "        'X' : X,\n",
    "        'Y' : Y,\n",
    "        'prediccion' : prediccion,\n",
    "        'anios' : anios\n",
    "    }\n",
    "    \n",
    "    # Mostrar gráfica\n",
    "    with out:\n",
    "        out.clear_output(True)\n",
    "        \n",
    "        axes_options = {'x': {'label': 'Año'},'y': {'label': 'Alumnos'}}\n",
    "        \n",
    "        fig = plt.figure(title = 'Predicción de matrícula escolar en la escuela %s utilizando %s' % (cct, modelo), legend_location='top-left')\n",
    "        plt.plot(x = [1998 + i for i in range(len(X))], y = list_X, colors = ['red'], axes_options=axes_options, labels = ['Datos de entrenamiento'], display_legend = True, marker = 'circle')\n",
    "        plt.plot(x = [1997 + len(X) + i  for i in range(len(Y) + 1)], y = (list_X + list_Y)[-(anios + 1):], labels = ['Datos de prueba'], display_legend = True, marker = 'circle')\n",
    "        plt.plot(x = [1997 + len(X) + i  for i in range(len(Y) + 1)], y = (list_X + list_predict)[-(anios + 1):], colors = ['green'], labels = ['Datos predecidos'], display_legend = True, marker = 'circle')\n",
    "        \n",
    "        plt.show()\n",
    "out"
   ]
  },
  {
   "cell_type": "markdown",
   "metadata": {},
   "source": [
    "## Compartir reporte en Datapane"
   ]
  },
  {
   "cell_type": "markdown",
   "metadata": {},
   "source": [
    "En la siguientes celdas se pueden crear reportes de la proyección hecha anteriormente y compartirlas públicamente."
   ]
  },
  {
   "cell_type": "code",
   "execution_count": null,
   "metadata": {},
   "outputs": [],
   "source": [
    "# Escribir aquí el token de acceso de Datapane\n",
    "# Puedes encontrarlo en: https://datapane.com/home/\n",
    "\n",
    "!datapane login --server=https://datapane.com/ --token=TOKEN"
   ]
  },
  {
   "cell_type": "code",
   "execution_count": null,
   "metadata": {},
   "outputs": [],
   "source": [
    "from MyUtilities import LoadReport\n",
    "\n",
    "# Crear reporte\n",
    "reporte = LoadReport(**reporte_dict)\n",
    "\n",
    "# Ver reporte en esta celda de Jupyter\n",
    "reporte.preview()\n",
    "\n",
    "# Alternativa: guardar reporte en disco y mostrar IFrame en Jupyter\n",
    "#reporte.save(path='Reporte.html', open = True)\n",
    "#display(IFrame(src = 'Reporte.html', width = '100%', height = '540px'))\n",
    "\n",
    "# Publicar\n",
    "reporte.publish(name='Reporte', open=True, visibility='PUBLIC')"
   ]
  }
 ],
 "metadata": {
  "kernelspec": {
   "display_name": "Python 3",
   "language": "python",
   "name": "python3"
  },
  "language_info": {
   "codemirror_mode": {
    "name": "ipython",
    "version": 3
   },
   "file_extension": ".py",
   "mimetype": "text/x-python",
   "name": "python",
   "nbconvert_exporter": "python",
   "pygments_lexer": "ipython3",
   "version": "3.6.9"
  }
 },
 "nbformat": 4,
 "nbformat_minor": 4
}
