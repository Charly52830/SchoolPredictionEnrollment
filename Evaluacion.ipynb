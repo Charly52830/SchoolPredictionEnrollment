{
 "cells": [
  {
   "cell_type": "code",
   "execution_count": null,
   "metadata": {},
   "outputs": [],
   "source": [
    "# Ejecutar esta celda solo si la celda de abajo tuvo problemas\n",
    "# Recargar página luego de ejecutar esta celda por primera vez\n",
    "!pip install \"ipywidgets>=7.2\"\n",
    "!pip install sklearn\n",
    "!pip install tensorflow\n",
    "!pip install pandas\n",
    "!pip install numpy\n",
    "!pip install bqplot\n",
    "!jupyter nbextension enable --py --sys-prefix bqplot"
   ]
  },
  {
   "cell_type": "code",
   "execution_count": null,
   "metadata": {},
   "outputs": [],
   "source": [
    "import pandas as pd\n",
    "import numpy as np\n",
    "import bqplot.pyplot as plt\n",
    "import tensorflow as tf\n",
    "from IPython.display import display\n",
    "import ipywidgets as widgets"
   ]
  },
  {
   "cell_type": "code",
   "execution_count": null,
   "metadata": {},
   "outputs": [],
   "source": [
    "# Importar las funciones de los modelos\n",
    "from TimeSeriesPrediction import fixed_partitioning_predict\n",
    "from LinearRegression import linear_regression_predict\n",
    "from DNN import load_model, dnn_predict, dnn_predict_by_year\n",
    "\n",
    "# Importar interface de modelos\n",
    "from Evaluation import Model, TestResult\n",
    "\n",
    "# Crear modelos\n",
    "\n",
    "model_dict = {\n",
    "    'Fix. part. time series' : Model(fixed_partitioning_predict),\n",
    "    'Fix. part. linear regression' : Model(linear_regression_predict),\n",
    "    'Deep Neural Networks' : Model(dnn_predict, args = dict(cached_model = load_model('default')))\n",
    "}\n",
    "\n",
    "# Crear etiquetas\n",
    "label_dict = {\n",
    "    'Fix. part. time series' : 'Fixed partitioning time series',\n",
    "    'Fix. part. linear regression' : 'Fixed partitioning linear regression',\n",
    "    'Deep Neural Networks' : 'Redes neuronales', \n",
    "    'Primarias públicas y privadas' : 'PrimariasCompletas',\n",
    "    'Primarias públicas' : 'PrimariasPublicas',\n",
    "    'Primarias privadas' : 'PrimariasPrivadas'\n",
    "}"
   ]
  },
  {
   "cell_type": "code",
   "execution_count": null,
   "metadata": {},
   "outputs": [],
   "source": [
    "# Seleccionar modelo de predicción\n",
    "model_radio_button = widgets.RadioButtons(\n",
    "    options=['Fix. part. time series', 'Fix. part. linear regression', 'Deep Neural Networks'],\n",
    "    description='Modelo',\n",
    "    disabled=False\n",
    ")\n",
    "\n",
    "display(model_radio_button)"
   ]
  },
  {
   "cell_type": "code",
   "execution_count": null,
   "metadata": {},
   "outputs": [],
   "source": [
    "# Seleccionar años a predecir\n",
    "prediction_size_int_slider = widgets.IntSlider(\n",
    "    value=3,\n",
    "    min=1,\n",
    "    max=5,\n",
    "    step=1,\n",
    "    description='Años',\n",
    "    disabled=False,\n",
    "    continuous_update=False,\n",
    "    orientation='horizontal',\n",
    "    readout=True,\n",
    "    readout_format='d'\n",
    ")\n",
    "\n",
    "display(prediction_size_int_slider)"
   ]
  },
  {
   "cell_type": "code",
   "execution_count": null,
   "metadata": {},
   "outputs": [],
   "source": [
    "# Seleccionar conjunto de datos\n",
    "set_name_radio_button = widgets.RadioButtons(\n",
    "    options=['Primarias públicas y privadas', 'Primarias públicas', 'Primarias privadas'],\n",
    "    description='Conjunto',\n",
    "    disabled=False\n",
    ")\n",
    "\n",
    "display(set_name_radio_button)"
   ]
  },
  {
   "cell_type": "code",
   "execution_count": null,
   "metadata": {},
   "outputs": [],
   "source": [
    "# Calcular resultados de la prueba\n",
    "model = model_dict[model_radio_button.value]\n",
    "result = model.test_set(label_dict[set_name_radio_button.value], prediction_size_int_slider.value)\n",
    "\n",
    "m = max(np.amax(result.Y_hat), np.amax(result.Y))\n",
    "print(\"Mean absolute percentage error: %f\" % (result.mape))\n",
    "print(\"Mean absolute error: %f\" % (result.mae))\n",
    "\n",
    "fig = plt.figure(title = 'Predicción de matrícula escolar en %s utilizando %s' % (set_name_radio_button.value,model_radio_button.value))\n",
    "plt.plot(x = np.array([0, m]), y = np.array([0, m]))\n",
    "plt.scatter(result.Y, result.Y_hat, stroke='black')\n",
    "fig"
   ]
  },
  {
   "cell_type": "markdown",
   "metadata": {},
   "source": [
    "# Predicción de matrícula en una sola escuela"
   ]
  },
  {
   "cell_type": "code",
   "execution_count": null,
   "metadata": {},
   "outputs": [],
   "source": [
    "from ipywidgets import interact, interactive, fixed, interact_manual\n",
    "\n",
    "out = widgets.Output()\n",
    "\n",
    "@interact(cct = 'Introduce cct', \n",
    "          anios = widgets.IntSlider(min=1, max=5, step=1, value=3, description = 'Años'), \n",
    "          modelo = widgets.RadioButtons(\n",
    "              options=['Fix. part. time series', \n",
    "                       'Fix. part. linear regression', \n",
    "                       'Deep Neural Networks'],\n",
    "              description='Modelo',\n",
    "              disabled=False\n",
    "))\n",
    "def prediccion(cct, anios, modelo) :\n",
    "    global model_dict\n",
    "    model = model_dict[modelo]\n",
    "    \n",
    "    dataset = pd.read_csv('PrimariasCompletas.csv')\n",
    "    unique_index = pd.Index(list(dataset['cct']))\n",
    "    if cct in unique_index :\n",
    "        index = unique_index.get_loc(cct)\n",
    "        print('Se encontró el cct')\n",
    "    else :\n",
    "        print('No se encontró el cct')\n",
    "        return\n",
    "    \n",
    "    # Quitar el cct\n",
    "    row = np.array(dataset.loc[index][1:])l\n",
    "    \n",
    "    # Separamos los últimos 5 años\n",
    "    X = row[: -model.TEST_SIZE]\n",
    "\n",
    "    if anios == model.TEST_SIZE :\n",
    "        Y = row[-model.TEST_SIZE :]\n",
    "    else :\n",
    "        Y = row[-model.TEST_SIZE : -(model.TEST_SIZE - anios)]\n",
    "    prediccion = model.predict(X, anios)\n",
    "    \n",
    "    list_X = list(X)\n",
    "    list_Y = list(Y)\n",
    "    list_predict = list(prediccion)\n",
    "    \n",
    "    with out:\n",
    "        out.clear_output(True)\n",
    "        \n",
    "        axes_options = {'x': {'label': 'Año'},'y': {'label': 'Alumnos'}}\n",
    "        \n",
    "        fig = plt.figure(title = 'Predicción de matrícula escolar en la escuela %s utilizando %s' % (cct, modelo))\n",
    "        plt.plot(x = [1998 + i for i in range(len(X))], y = list_X, colors = ['red'], axes_options=axes_options)\n",
    "        plt.plot(x = [1997 + len(X) + i  for i in range(len(Y) + 1)], y = (list_X + list_Y)[-(anios + 1):])\n",
    "        plt.plot(x = [1997 + len(X) + i  for i in range(len(Y) + 1)], y = (list_X + list_predict)[-(anios + 1):], colors = ['green'])\n",
    "        \n",
    "        plt.show()\n",
    "out"
   ]
  }
 ],
 "metadata": {
  "kernelspec": {
   "display_name": "Python 3",
   "language": "python",
   "name": "python3"
  },
  "language_info": {
   "codemirror_mode": {
    "name": "ipython",
    "version": 3
   },
   "file_extension": ".py",
   "mimetype": "text/x-python",
   "name": "python",
   "nbconvert_exporter": "python",
   "pygments_lexer": "ipython3",
   "version": "3.8.3"
  }
 },
 "nbformat": 4,
 "nbformat_minor": 4
}
