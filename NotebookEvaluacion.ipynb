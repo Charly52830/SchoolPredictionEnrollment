{
 "cells": [
  {
   "cell_type": "code",
   "execution_count": null,
   "metadata": {},
   "outputs": [],
   "source": [
    "# Instalar paquetes\n",
    "!pip install jupyter_plotly_dash\n",
    "!pip install plotly==4.8.1\n",
    "!pip install \"ipywidgets>=7.2\"\n",
    "!pip install sklearn\n",
    "!pip install tensorflow\n",
    "!pip install pandas\n",
    "!pip install numpy"
   ]
  },
  {
   "cell_type": "code",
   "execution_count": 1,
   "metadata": {
    "scrolled": true
   },
   "outputs": [],
   "source": [
    "# Importar paquetes necesarios\n",
    "import plotly.graph_objects as go\n",
    "from jupyter_plotly_dash import JupyterDash\n",
    "import dash\n",
    "import dash_core_components as dcc\n",
    "import dash_html_components as html\n",
    "from dash.dependencies import Input, Output\n",
    "\n",
    "import pandas as pd\n",
    "import numpy as np\n",
    "import tensorflow as tf"
   ]
  },
  {
   "cell_type": "code",
   "execution_count": 2,
   "metadata": {},
   "outputs": [
    {
     "name": "stdout",
     "output_type": "stream",
     "text": [
      "Loaded model  default\n"
     ]
    }
   ],
   "source": [
    "# Importar las funciones de los modelos\n",
    "from TimeSeriesPrediction import fixed_partitioning_predict\n",
    "from LinearRegression import linear_regression_predict\n",
    "from DNN import load_model, dnn_predict, dnn_predict_by_year\n",
    "\n",
    "# Importar interface de modelos\n",
    "from Evaluation import Model, TestResult\n",
    "\n",
    "# Crear modelos\n",
    "\n",
    "model_dict = {\n",
    "    'fpts' : Model(fixed_partitioning_predict),\n",
    "    'fplr' : Model(linear_regression_predict),\n",
    "    'dnn' : Model(dnn_predict, args = dict(cached_model = load_model('default')))\n",
    "}\n",
    "\n",
    "# Crear etiquetas\n",
    "label_dict = {\n",
    "    'fpts' : 'Fixed partitioning time series',\n",
    "    'fplr' : 'Fixed partitioning linear regression',\n",
    "    'dnn' : 'Redes neuronales', \n",
    "    'PrimariasCompletas' : 'primarias públicas y privadas',\n",
    "    'PrimariasPublicas' : 'primarias públicas',\n",
    "    'PrimariasPrivadas' : 'primarias privadas'\n",
    "}"
   ]
  },
  {
   "cell_type": "code",
   "execution_count": 3,
   "metadata": {
    "scrolled": true
   },
   "outputs": [
    {
     "data": {
      "text/html": [
       "<div>\n",
       "  <iframe src=\"/app/endpoints/90c3d1ab16114332a1b81fffa6f42877/\" width=800 height=600 frameborder=\"0\"></iframe>\n",
       "  <hr/><a href=\"/app/endpoints/90c3d1ab16114332a1b81fffa6f42877/\" target=\"_new\">Open in new window</a> for /app/endpoints/90c3d1ab16114332a1b81fffa6f42877/\n",
       "</div>"
      ],
      "text/plain": [
       "<jupyter_plotly_dash.dash_wrapper.JupyterDash at 0x7f09347930b8>"
      ]
     },
     "execution_count": 3,
     "metadata": {},
     "output_type": "execute_result"
    }
   ],
   "source": [
    "# Callbacks reference:\n",
    "# https://dash.plotly.com/basic-callbacks\n",
    "\n",
    "fig = go.Figure(data=go.Bar(y=[2, 3, 1]))\n",
    "\n",
    "def model_management(modelo, prediction_size, set_name) :\n",
    "    global model_dict\n",
    "    global label_dict\n",
    "    model = model_dict[modelo]\n",
    "    result = model.test_set(set_name, prediction_size)\n",
    "    result.fig.update_layout(\n",
    "        title = 'Predicción de matrícula escolar en %s utilizando %s' % (\n",
    "            label_dict[set_name],\n",
    "            label_dict[modelo]\n",
    "        )\n",
    "    )\n",
    "    return result.fig\n",
    "    \n",
    "\n",
    "app = JupyterDash('SimpleExample')\n",
    "\n",
    "app.layout = html.Div([\n",
    "    html.H1(\"Evaluación de modelos para la predicción de matrícula escolar\"),\n",
    "    html.Hr(),\n",
    "    html.H4(\"Modelo\"),\n",
    "    dcc.RadioItems(\n",
    "        id = 'modelos',\n",
    "        options = [\n",
    "            {\"label\": \"Fixed partitioning time series\", \"value\": \"fpts\"},\n",
    "            {\"label\": \"Fixed partitioning linear regression\", \"value\": \"fplr\"},\n",
    "            {\"label\": \"Deep Neural Network\", \"value\": \"dnn\"}\n",
    "        ],\n",
    "        value = \"fpts\",\n",
    "        labelStyle = {'display': 'block'}\n",
    "    ),\n",
    "    html.H4(\"Años a predecir\"),\n",
    "    dcc.RadioItems(\n",
    "        id = 'anios',\n",
    "        options = [\n",
    "            {\"label\": \"1\", \"value\": 1},\n",
    "            {\"label\": \"2\", \"value\": 2},\n",
    "            {\"label\": \"3\", \"value\": 3},\n",
    "            {\"label\": \"4\", \"value\": 4},\n",
    "            {\"label\": \"5\", \"value\": 5}\n",
    "        ],\n",
    "        value = 5,\n",
    "        labelStyle = {'display': 'inline'}\n",
    "    ),\n",
    "    html.H4(\"Conjunto de datos\"),\n",
    "    dcc.RadioItems(\n",
    "        id = 'conjunto_datos',\n",
    "        options = [\n",
    "            {\"label\": \"Primarias públicas y privadas\", \"value\": \"PrimariasCompletas\"},\n",
    "            {\"label\": \"Primarias públicas\", \"value\": \"PrimariasPublicas\"},\n",
    "            {\"label\": \"Primarias privadas\", \"value\": \"PrimariasPrivadas\"}\n",
    "        ],\n",
    "        value = \"PrimariasCompletas\",\n",
    "        labelStyle = {'display': 'block'}\n",
    "    ),\n",
    "    html.Button('Evaluar', id='boton_evaluar'),\n",
    "    html.Hr(),\n",
    "    html.Div([dcc.Graph(id = \"grafica\", figure = fig)]),\n",
    "    \n",
    "    # CSS\n",
    "    html.Link(rel = \"stylesheet\", href = \"https://stackpath.bootstrapcdn.com/bootstrap/4.5.0/css/bootstrap.min.css\")\n",
    "])\n",
    "\n",
    "@app.callback(\n",
    "    dash.dependencies.Output('grafica', 'figure'),\n",
    "    [dash.dependencies.Input('modelos', 'value'),\n",
    "     dash.dependencies.Input('anios', 'value'),\n",
    "     dash.dependencies.Input('conjunto_datos', 'value'),\n",
    "     dash.dependencies.Input('boton_evaluar', 'value')\n",
    "    ])\n",
    "def mostrar_resultado(modelo, prediction_size, set_name, button_val):\n",
    "    return model_management(modelo, prediction_size, set_name)\n",
    "\n",
    "app"
   ]
  },
  {
   "cell_type": "code",
   "execution_count": 6,
   "metadata": {},
   "outputs": [],
   "source": [
    "print(\"\")"
   ]
  }
 ],
 "metadata": {
  "kernelspec": {
   "display_name": "Python 3",
   "language": "python",
   "name": "python3"
  },
  "language_info": {
   "codemirror_mode": {
    "name": "ipython",
    "version": 3
   },
   "file_extension": ".py",
   "mimetype": "text/x-python",
   "name": "python",
   "nbconvert_exporter": "python",
   "pygments_lexer": "ipython3",
   "version": "3.6.9"
  }
 },
 "nbformat": 4,
 "nbformat_minor": 4
}
